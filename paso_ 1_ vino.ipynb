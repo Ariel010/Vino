{
 "cells": [
  {
   "cell_type": "code",
   "execution_count": 1,
   "metadata": {},
   "outputs": [],
   "source": [
    "import pandas as pd\n",
    "import numpy as np"
   ]
  },
  {
   "cell_type": "code",
   "execution_count": 2,
   "metadata": {},
   "outputs": [],
   "source": [
    "df = pd.read_csv('DatosVino(in).csv')"
   ]
  },
  {
   "cell_type": "markdown",
   "metadata": {},
   "source": [
    "Trabajaremos con un conjunto de datos de vinos, y nuestro objetivo será predecir tanto el precio como la calidad de una botella de vino."
   ]
  },
  {
   "cell_type": "code",
   "execution_count": 3,
   "metadata": {},
   "outputs": [
    {
     "data": {
      "text/html": [
       "<div>\n",
       "<style scoped>\n",
       "    .dataframe tbody tr th:only-of-type {\n",
       "        vertical-align: middle;\n",
       "    }\n",
       "\n",
       "    .dataframe tbody tr th {\n",
       "        vertical-align: top;\n",
       "    }\n",
       "\n",
       "    .dataframe thead th {\n",
       "        text-align: right;\n",
       "    }\n",
       "</style>\n",
       "<table border=\"1\" class=\"dataframe\">\n",
       "  <thead>\n",
       "    <tr style=\"text-align: right;\">\n",
       "      <th></th>\n",
       "      <th>ID</th>\n",
       "      <th>Beneficio</th>\n",
       "      <th>Compra</th>\n",
       "      <th>Acidez</th>\n",
       "      <th>AcidoCitrico</th>\n",
       "      <th>pH</th>\n",
       "      <th>CloruroSodico</th>\n",
       "      <th>Densidad</th>\n",
       "      <th>Azucar</th>\n",
       "      <th>Sulfatos</th>\n",
       "      <th>Alcohol</th>\n",
       "      <th>Etiqueta</th>\n",
       "      <th>CalifProductor</th>\n",
       "      <th>Clasificacion</th>\n",
       "      <th>Region</th>\n",
       "      <th>PrecioBotella</th>\n",
       "    </tr>\n",
       "  </thead>\n",
       "  <tbody>\n",
       "    <tr>\n",
       "      <th>0</th>\n",
       "      <td>13606</td>\n",
       "      <td>0</td>\n",
       "      <td>0</td>\n",
       "      <td>0.39</td>\n",
       "      <td>0.14</td>\n",
       "      <td>4.99</td>\n",
       "      <td>0.073</td>\n",
       "      <td>1.02195</td>\n",
       "      <td>5.9</td>\n",
       "      <td>0.12</td>\n",
       "      <td>6.6</td>\n",
       "      <td>B</td>\n",
       "      <td>5</td>\n",
       "      <td>?</td>\n",
       "      <td>1.0</td>\n",
       "      <td>4.56</td>\n",
       "    </tr>\n",
       "    <tr>\n",
       "      <th>1</th>\n",
       "      <td>3119</td>\n",
       "      <td>0</td>\n",
       "      <td>0</td>\n",
       "      <td>2.19</td>\n",
       "      <td>2.58</td>\n",
       "      <td>5.54</td>\n",
       "      <td>0.205</td>\n",
       "      <td>0.95373</td>\n",
       "      <td>6.4</td>\n",
       "      <td>0.49</td>\n",
       "      <td>112.0</td>\n",
       "      <td>b</td>\n",
       "      <td>4</td>\n",
       "      <td>?</td>\n",
       "      <td>NaN</td>\n",
       "      <td>3.01</td>\n",
       "    </tr>\n",
       "  </tbody>\n",
       "</table>\n",
       "</div>"
      ],
      "text/plain": [
       "      ID  Beneficio  Compra  Acidez  AcidoCitrico    pH  CloruroSodico  \\\n",
       "0  13606          0       0    0.39          0.14  4.99          0.073   \n",
       "1   3119          0       0    2.19          2.58  5.54          0.205   \n",
       "\n",
       "   Densidad  Azucar  Sulfatos  Alcohol Etiqueta  CalifProductor Clasificacion  \\\n",
       "0   1.02195     5.9      0.12      6.6        B               5             ?   \n",
       "1   0.95373     6.4      0.49    112.0        b               4             ?   \n",
       "\n",
       "   Region  PrecioBotella  \n",
       "0     1.0           4.56  \n",
       "1     NaN           3.01  "
      ]
     },
     "execution_count": 3,
     "metadata": {},
     "output_type": "execute_result"
    }
   ],
   "source": [
    "df.head(2)"
   ]
  },
  {
   "cell_type": "markdown",
   "metadata": {},
   "source": [
    "Exploración de los Datos (EDA - Exploratory Data Analysis)"
   ]
  },
  {
   "cell_type": "code",
   "execution_count": 4,
   "metadata": {},
   "outputs": [
    {
     "name": "stdout",
     "output_type": "stream",
     "text": [
      "<class 'pandas.core.frame.DataFrame'>\n",
      "RangeIndex: 6365 entries, 0 to 6364\n",
      "Data columns (total 16 columns):\n",
      " #   Column          Non-Null Count  Dtype  \n",
      "---  ------          --------------  -----  \n",
      " 0   ID              6365 non-null   int64  \n",
      " 1   Beneficio       6365 non-null   int64  \n",
      " 2   Compra          6365 non-null   int64  \n",
      " 3   Acidez          6365 non-null   float64\n",
      " 4   AcidoCitrico    6365 non-null   float64\n",
      " 5   pH              6365 non-null   float64\n",
      " 6   CloruroSodico   6365 non-null   float64\n",
      " 7   Densidad        6365 non-null   float64\n",
      " 8   Azucar          6365 non-null   float64\n",
      " 9   Sulfatos        5761 non-null   float64\n",
      " 10  Alcohol         6365 non-null   float64\n",
      " 11  Etiqueta        6365 non-null   object \n",
      " 12  CalifProductor  6365 non-null   int64  \n",
      " 13  Clasificacion   6365 non-null   object \n",
      " 14  Region          6258 non-null   float64\n",
      " 15  PrecioBotella   6365 non-null   float64\n",
      "dtypes: float64(10), int64(4), object(2)\n",
      "memory usage: 795.8+ KB\n"
     ]
    }
   ],
   "source": [
    "df.info()"
   ]
  },
  {
   "cell_type": "code",
   "execution_count": 5,
   "metadata": {},
   "outputs": [
    {
     "data": {
      "text/html": [
       "<div>\n",
       "<style scoped>\n",
       "    .dataframe tbody tr th:only-of-type {\n",
       "        vertical-align: middle;\n",
       "    }\n",
       "\n",
       "    .dataframe tbody tr th {\n",
       "        vertical-align: top;\n",
       "    }\n",
       "\n",
       "    .dataframe thead th {\n",
       "        text-align: right;\n",
       "    }\n",
       "</style>\n",
       "<table border=\"1\" class=\"dataframe\">\n",
       "  <thead>\n",
       "    <tr style=\"text-align: right;\">\n",
       "      <th></th>\n",
       "      <th>ID</th>\n",
       "      <th>Beneficio</th>\n",
       "      <th>Compra</th>\n",
       "      <th>Acidez</th>\n",
       "      <th>AcidoCitrico</th>\n",
       "      <th>pH</th>\n",
       "      <th>CloruroSodico</th>\n",
       "      <th>Densidad</th>\n",
       "      <th>Azucar</th>\n",
       "      <th>Sulfatos</th>\n",
       "      <th>Alcohol</th>\n",
       "      <th>CalifProductor</th>\n",
       "      <th>Region</th>\n",
       "      <th>PrecioBotella</th>\n",
       "    </tr>\n",
       "  </thead>\n",
       "  <tbody>\n",
       "    <tr>\n",
       "      <th>count</th>\n",
       "      <td>6365.000000</td>\n",
       "      <td>6365.000000</td>\n",
       "      <td>6365.000000</td>\n",
       "      <td>6365.000000</td>\n",
       "      <td>6365.000000</td>\n",
       "      <td>6365.000000</td>\n",
       "      <td>6365.000000</td>\n",
       "      <td>6365.000000</td>\n",
       "      <td>6365.000000</td>\n",
       "      <td>5761.000000</td>\n",
       "      <td>6365.000000</td>\n",
       "      <td>6365.000000</td>\n",
       "      <td>6258.000000</td>\n",
       "      <td>6365.000000</td>\n",
       "    </tr>\n",
       "    <tr>\n",
       "      <th>mean</th>\n",
       "      <td>8010.702278</td>\n",
       "      <td>452.380204</td>\n",
       "      <td>0.785232</td>\n",
       "      <td>0.331214</td>\n",
       "      <td>0.314350</td>\n",
       "      <td>7.528735</td>\n",
       "      <td>46.977608</td>\n",
       "      <td>0.994204</td>\n",
       "      <td>8.851280</td>\n",
       "      <td>0.526659</td>\n",
       "      <td>17.460723</td>\n",
       "      <td>2.758523</td>\n",
       "      <td>2.011665</td>\n",
       "      <td>2.610652</td>\n",
       "    </tr>\n",
       "    <tr>\n",
       "      <th>std</th>\n",
       "      <td>4654.939139</td>\n",
       "      <td>308.380542</td>\n",
       "      <td>0.410694</td>\n",
       "      <td>0.787534</td>\n",
       "      <td>0.861428</td>\n",
       "      <td>1.118732</td>\n",
       "      <td>211.381101</td>\n",
       "      <td>0.026417</td>\n",
       "      <td>3.212404</td>\n",
       "      <td>0.948039</td>\n",
       "      <td>25.261544</td>\n",
       "      <td>1.302336</td>\n",
       "      <td>0.818336</td>\n",
       "      <td>1.480274</td>\n",
       "    </tr>\n",
       "    <tr>\n",
       "      <th>min</th>\n",
       "      <td>2.000000</td>\n",
       "      <td>0.000000</td>\n",
       "      <td>0.000000</td>\n",
       "      <td>-2.790000</td>\n",
       "      <td>-3.240000</td>\n",
       "      <td>4.800000</td>\n",
       "      <td>-1.171000</td>\n",
       "      <td>0.888090</td>\n",
       "      <td>0.000000</td>\n",
       "      <td>-3.120000</td>\n",
       "      <td>-4.500000</td>\n",
       "      <td>0.000000</td>\n",
       "      <td>1.000000</td>\n",
       "      <td>1.000000</td>\n",
       "    </tr>\n",
       "    <tr>\n",
       "      <th>25%</th>\n",
       "      <td>3980.000000</td>\n",
       "      <td>236.000000</td>\n",
       "      <td>1.000000</td>\n",
       "      <td>0.130000</td>\n",
       "      <td>0.020000</td>\n",
       "      <td>6.820000</td>\n",
       "      <td>-0.004000</td>\n",
       "      <td>0.988245</td>\n",
       "      <td>6.700000</td>\n",
       "      <td>0.280000</td>\n",
       "      <td>9.900000</td>\n",
       "      <td>2.000000</td>\n",
       "      <td>1.000000</td>\n",
       "      <td>1.420000</td>\n",
       "    </tr>\n",
       "    <tr>\n",
       "      <th>50%</th>\n",
       "      <td>8065.000000</td>\n",
       "      <td>480.000000</td>\n",
       "      <td>1.000000</td>\n",
       "      <td>0.280000</td>\n",
       "      <td>0.310000</td>\n",
       "      <td>7.920000</td>\n",
       "      <td>0.048000</td>\n",
       "      <td>0.994400</td>\n",
       "      <td>8.900000</td>\n",
       "      <td>0.500000</td>\n",
       "      <td>11.600000</td>\n",
       "      <td>3.000000</td>\n",
       "      <td>2.000000</td>\n",
       "      <td>2.190000</td>\n",
       "    </tr>\n",
       "    <tr>\n",
       "      <th>75%</th>\n",
       "      <td>12027.000000</td>\n",
       "      <td>671.000000</td>\n",
       "      <td>1.000000</td>\n",
       "      <td>0.650000</td>\n",
       "      <td>0.580000</td>\n",
       "      <td>8.400000</td>\n",
       "      <td>0.224000</td>\n",
       "      <td>1.000600</td>\n",
       "      <td>11.000000</td>\n",
       "      <td>0.880000</td>\n",
       "      <td>14.000000</td>\n",
       "      <td>3.000000</td>\n",
       "      <td>3.000000</td>\n",
       "      <td>3.440000</td>\n",
       "    </tr>\n",
       "    <tr>\n",
       "      <th>max</th>\n",
       "      <td>16128.000000</td>\n",
       "      <td>1568.000000</td>\n",
       "      <td>1.000000</td>\n",
       "      <td>3.680000</td>\n",
       "      <td>3.860000</td>\n",
       "      <td>9.300000</td>\n",
       "      <td>999.000000</td>\n",
       "      <td>1.099240</td>\n",
       "      <td>21.000000</td>\n",
       "      <td>4.210000</td>\n",
       "      <td>150.000000</td>\n",
       "      <td>9.000000</td>\n",
       "      <td>3.000000</td>\n",
       "      <td>11.440000</td>\n",
       "    </tr>\n",
       "  </tbody>\n",
       "</table>\n",
       "</div>"
      ],
      "text/plain": [
       "                 ID    Beneficio       Compra       Acidez  AcidoCitrico  \\\n",
       "count   6365.000000  6365.000000  6365.000000  6365.000000   6365.000000   \n",
       "mean    8010.702278   452.380204     0.785232     0.331214      0.314350   \n",
       "std     4654.939139   308.380542     0.410694     0.787534      0.861428   \n",
       "min        2.000000     0.000000     0.000000    -2.790000     -3.240000   \n",
       "25%     3980.000000   236.000000     1.000000     0.130000      0.020000   \n",
       "50%     8065.000000   480.000000     1.000000     0.280000      0.310000   \n",
       "75%    12027.000000   671.000000     1.000000     0.650000      0.580000   \n",
       "max    16128.000000  1568.000000     1.000000     3.680000      3.860000   \n",
       "\n",
       "                pH  CloruroSodico     Densidad       Azucar     Sulfatos  \\\n",
       "count  6365.000000    6365.000000  6365.000000  6365.000000  5761.000000   \n",
       "mean      7.528735      46.977608     0.994204     8.851280     0.526659   \n",
       "std       1.118732     211.381101     0.026417     3.212404     0.948039   \n",
       "min       4.800000      -1.171000     0.888090     0.000000    -3.120000   \n",
       "25%       6.820000      -0.004000     0.988245     6.700000     0.280000   \n",
       "50%       7.920000       0.048000     0.994400     8.900000     0.500000   \n",
       "75%       8.400000       0.224000     1.000600    11.000000     0.880000   \n",
       "max       9.300000     999.000000     1.099240    21.000000     4.210000   \n",
       "\n",
       "           Alcohol  CalifProductor       Region  PrecioBotella  \n",
       "count  6365.000000     6365.000000  6258.000000    6365.000000  \n",
       "mean     17.460723        2.758523     2.011665       2.610652  \n",
       "std      25.261544        1.302336     0.818336       1.480274  \n",
       "min      -4.500000        0.000000     1.000000       1.000000  \n",
       "25%       9.900000        2.000000     1.000000       1.420000  \n",
       "50%      11.600000        3.000000     2.000000       2.190000  \n",
       "75%      14.000000        3.000000     3.000000       3.440000  \n",
       "max     150.000000        9.000000     3.000000      11.440000  "
      ]
     },
     "execution_count": 5,
     "metadata": {},
     "output_type": "execute_result"
    }
   ],
   "source": [
    "df.describe()"
   ]
  },
  {
   "cell_type": "code",
   "execution_count": 6,
   "metadata": {},
   "outputs": [
    {
     "data": {
      "text/plain": [
       "ID                  0\n",
       "Beneficio           0\n",
       "Compra              0\n",
       "Acidez              0\n",
       "AcidoCitrico        0\n",
       "pH                  0\n",
       "CloruroSodico       0\n",
       "Densidad            0\n",
       "Azucar              0\n",
       "Sulfatos          604\n",
       "Alcohol             0\n",
       "Etiqueta            0\n",
       "CalifProductor      0\n",
       "Clasificacion       0\n",
       "Region            107\n",
       "PrecioBotella       0\n",
       "dtype: int64"
      ]
     },
     "execution_count": 6,
     "metadata": {},
     "output_type": "execute_result"
    }
   ],
   "source": [
    "df.isnull().sum()"
   ]
  },
  {
   "cell_type": "code",
   "execution_count": 7,
   "metadata": {},
   "outputs": [],
   "source": [
    "# Eliminar filas con valores nulos\n",
    "df = df.dropna(subset=['Region'])"
   ]
  },
  {
   "cell_type": "code",
   "execution_count": 8,
   "metadata": {},
   "outputs": [
    {
     "data": {
      "image/png": "[encoded data removed]",
      "text/plain": [
       "<Figure size 1000x600 with 1 Axes>"
      ]
     },
     "metadata": {},
     "output_type": "display_data"
    }
   ],
   "source": [
    "import matplotlib.pyplot as plt\n",
    "import seaborn as sns\n",
    "\n",
    "# Histograma de una variable continua\n",
    "plt.figure(figsize=(10, 6))\n",
    "sns.histplot(df['Alcohol'], bins=30, kde=True)\n",
    "plt.title('Histograma de Alcohol')\n",
    "plt.xlabel('Alcohol')\n",
    "plt.ylabel('Frecuencia')\n",
    "plt.show()\n"
   ]
  },
  {
   "cell_type": "markdown",
   "metadata": {},
   "source": [
    "Columna de Alcohol con mas del 100% ? Datos anomalos o irregulares?"
   ]
  },
  {
   "cell_type": "code",
   "execution_count": 9,
   "metadata": {},
   "outputs": [
    {
     "data": {
      "image/png": "[encoded data removed]",
      "text/plain": [
       "<Figure size 1000x600 with 1 Axes>"
      ]
     },
     "metadata": {},
     "output_type": "display_data"
    }
   ],
   "source": [
    "import matplotlib.pyplot as plt\n",
    "import seaborn as sns\n",
    "\n",
    "# Boxplot de la columna Alcohol\n",
    "plt.figure(figsize=(10, 6))\n",
    "sns.boxplot(x=df['Alcohol'])\n",
    "plt.title('Boxplot de Alcohol')\n",
    "plt.xlabel('Alcohol')\n",
    "plt.show()"
   ]
  },
  {
   "cell_type": "markdown",
   "metadata": {},
   "source": [
    "Aca se aprecia que hay valores de % de alcohol negativos y otros arriba del 100%"
   ]
  },
  {
   "cell_type": "code",
   "execution_count": 10,
   "metadata": {},
   "outputs": [],
   "source": [
    "# Manejar valores anómalos en 'Alcohol'\n",
    "df = df[(df['Alcohol'] >= 0) & (df['Alcohol'] <= 100)]"
   ]
  },
  {
   "cell_type": "markdown",
   "metadata": {},
   "source": [
    "Segun datos anexos Azucar y Densidad son positivos"
   ]
  },
  {
   "cell_type": "code",
   "execution_count": 11,
   "metadata": {},
   "outputs": [],
   "source": [
    "df = df[(df['Azucar'] >= 0) & (df['Densidad'] >= 0)]"
   ]
  },
  {
   "cell_type": "code",
   "execution_count": 12,
   "metadata": {},
   "outputs": [
    {
     "data": {
      "text/plain": [
       "ID                  0\n",
       "Beneficio           0\n",
       "Compra              0\n",
       "Acidez              0\n",
       "AcidoCitrico        0\n",
       "pH                  0\n",
       "CloruroSodico       0\n",
       "Densidad            0\n",
       "Azucar              0\n",
       "Sulfatos          560\n",
       "Alcohol             0\n",
       "Etiqueta            0\n",
       "CalifProductor      0\n",
       "Clasificacion       0\n",
       "Region              0\n",
       "PrecioBotella       0\n",
       "dtype: int64"
      ]
     },
     "execution_count": 12,
     "metadata": {},
     "output_type": "execute_result"
    }
   ],
   "source": [
    "df.isnull().sum()"
   ]
  },
  {
   "cell_type": "code",
   "execution_count": 13,
   "metadata": {},
   "outputs": [
    {
     "data": {
      "image/png": "[encoded data removed]",
      "text/plain": [
       "<Figure size 1000x600 with 1 Axes>"
      ]
     },
     "metadata": {},
     "output_type": "display_data"
    }
   ],
   "source": [
    "import matplotlib.pyplot as plt\n",
    "import seaborn as sns\n",
    "\n",
    "# Histograma de una variable continua\n",
    "plt.figure(figsize=(10, 6))\n",
    "sns.histplot(df['Sulfatos'], bins=30, kde=True)\n",
    "plt.title('Histograma de Sulfatos')\n",
    "plt.xlabel('Sulfatos')\n",
    "plt.ylabel('Frecuencia')\n",
    "plt.show()"
   ]
  },
  {
   "cell_type": "markdown",
   "metadata": {},
   "source": [
    "Sulfatos negativos, valores anomalos?"
   ]
  },
  {
   "cell_type": "code",
   "execution_count": 14,
   "metadata": {},
   "outputs": [],
   "source": [
    "df = df[(df['Sulfatos'] >= 0)]"
   ]
  },
  {
   "cell_type": "code",
   "execution_count": 15,
   "metadata": {},
   "outputs": [
    {
     "data": {
      "text/plain": [
       "count    4238.000000\n",
       "mean        0.866921\n",
       "std         0.676300\n",
       "min         0.000000\n",
       "25%         0.440000\n",
       "50%         0.570000\n",
       "75%         1.160000\n",
       "max         4.210000\n",
       "Name: Sulfatos, dtype: float64"
      ]
     },
     "execution_count": 15,
     "metadata": {},
     "output_type": "execute_result"
    }
   ],
   "source": [
    "df.Sulfatos.describe()"
   ]
  },
  {
   "cell_type": "code",
   "execution_count": 16,
   "metadata": {},
   "outputs": [],
   "source": [
    "df['Sulfatos'] = df['Sulfatos'].fillna(df['Sulfatos'].mode())"
   ]
  },
  {
   "cell_type": "code",
   "execution_count": 17,
   "metadata": {},
   "outputs": [
    {
     "data": {
      "text/html": [
       "<div>\n",
       "<style scoped>\n",
       "    .dataframe tbody tr th:only-of-type {\n",
       "        vertical-align: middle;\n",
       "    }\n",
       "\n",
       "    .dataframe tbody tr th {\n",
       "        vertical-align: top;\n",
       "    }\n",
       "\n",
       "    .dataframe thead th {\n",
       "        text-align: right;\n",
       "    }\n",
       "</style>\n",
       "<table border=\"1\" class=\"dataframe\">\n",
       "  <thead>\n",
       "    <tr style=\"text-align: right;\">\n",
       "      <th></th>\n",
       "      <th>ID</th>\n",
       "      <th>Beneficio</th>\n",
       "      <th>Compra</th>\n",
       "      <th>Acidez</th>\n",
       "      <th>AcidoCitrico</th>\n",
       "      <th>pH</th>\n",
       "      <th>CloruroSodico</th>\n",
       "      <th>Densidad</th>\n",
       "      <th>Azucar</th>\n",
       "      <th>Sulfatos</th>\n",
       "      <th>Alcohol</th>\n",
       "      <th>Etiqueta</th>\n",
       "      <th>CalifProductor</th>\n",
       "      <th>Clasificacion</th>\n",
       "      <th>Region</th>\n",
       "      <th>PrecioBotella</th>\n",
       "    </tr>\n",
       "  </thead>\n",
       "  <tbody>\n",
       "    <tr>\n",
       "      <th>0</th>\n",
       "      <td>13606</td>\n",
       "      <td>0</td>\n",
       "      <td>0</td>\n",
       "      <td>0.39</td>\n",
       "      <td>0.14</td>\n",
       "      <td>4.99</td>\n",
       "      <td>0.073</td>\n",
       "      <td>1.02195</td>\n",
       "      <td>5.9</td>\n",
       "      <td>0.12</td>\n",
       "      <td>6.6</td>\n",
       "      <td>B</td>\n",
       "      <td>5</td>\n",
       "      <td>?</td>\n",
       "      <td>1.0</td>\n",
       "      <td>4.56</td>\n",
       "    </tr>\n",
       "    <tr>\n",
       "      <th>2</th>\n",
       "      <td>1190</td>\n",
       "      <td>0</td>\n",
       "      <td>0</td>\n",
       "      <td>1.44</td>\n",
       "      <td>-1.54</td>\n",
       "      <td>5.10</td>\n",
       "      <td>0.058</td>\n",
       "      <td>0.99271</td>\n",
       "      <td>7.1</td>\n",
       "      <td>0.39</td>\n",
       "      <td>10.2</td>\n",
       "      <td>B</td>\n",
       "      <td>2</td>\n",
       "      <td>?</td>\n",
       "      <td>1.0</td>\n",
       "      <td>1.00</td>\n",
       "    </tr>\n",
       "    <tr>\n",
       "      <th>4</th>\n",
       "      <td>2871</td>\n",
       "      <td>0</td>\n",
       "      <td>0</td>\n",
       "      <td>-0.10</td>\n",
       "      <td>0.30</td>\n",
       "      <td>5.75</td>\n",
       "      <td>0.048</td>\n",
       "      <td>1.02724</td>\n",
       "      <td>7.2</td>\n",
       "      <td>0.44</td>\n",
       "      <td>10.1</td>\n",
       "      <td>M</td>\n",
       "      <td>2</td>\n",
       "      <td>?</td>\n",
       "      <td>1.0</td>\n",
       "      <td>1.28</td>\n",
       "    </tr>\n",
       "    <tr>\n",
       "      <th>8</th>\n",
       "      <td>8725</td>\n",
       "      <td>0</td>\n",
       "      <td>0</td>\n",
       "      <td>0.46</td>\n",
       "      <td>-0.74</td>\n",
       "      <td>5.37</td>\n",
       "      <td>0.064</td>\n",
       "      <td>0.99718</td>\n",
       "      <td>1.5</td>\n",
       "      <td>1.91</td>\n",
       "      <td>11.0</td>\n",
       "      <td>R</td>\n",
       "      <td>5</td>\n",
       "      <td>?</td>\n",
       "      <td>2.0</td>\n",
       "      <td>2.95</td>\n",
       "    </tr>\n",
       "    <tr>\n",
       "      <th>10</th>\n",
       "      <td>15084</td>\n",
       "      <td>0</td>\n",
       "      <td>0</td>\n",
       "      <td>0.22</td>\n",
       "      <td>-0.56</td>\n",
       "      <td>5.28</td>\n",
       "      <td>0.035</td>\n",
       "      <td>0.97087</td>\n",
       "      <td>9.8</td>\n",
       "      <td>0.61</td>\n",
       "      <td>14.3</td>\n",
       "      <td>R</td>\n",
       "      <td>2</td>\n",
       "      <td>?</td>\n",
       "      <td>3.0</td>\n",
       "      <td>2.69</td>\n",
       "    </tr>\n",
       "  </tbody>\n",
       "</table>\n",
       "</div>"
      ],
      "text/plain": [
       "       ID  Beneficio  Compra  Acidez  AcidoCitrico    pH  CloruroSodico  \\\n",
       "0   13606          0       0    0.39          0.14  4.99          0.073   \n",
       "2    1190          0       0    1.44         -1.54  5.10          0.058   \n",
       "4    2871          0       0   -0.10          0.30  5.75          0.048   \n",
       "8    8725          0       0    0.46         -0.74  5.37          0.064   \n",
       "10  15084          0       0    0.22         -0.56  5.28          0.035   \n",
       "\n",
       "    Densidad  Azucar  Sulfatos  Alcohol Etiqueta  CalifProductor  \\\n",
       "0    1.02195     5.9      0.12      6.6        B               5   \n",
       "2    0.99271     7.1      0.39     10.2        B               2   \n",
       "4    1.02724     7.2      0.44     10.1        M               2   \n",
       "8    0.99718     1.5      1.91     11.0        R               5   \n",
       "10   0.97087     9.8      0.61     14.3        R               2   \n",
       "\n",
       "   Clasificacion  Region  PrecioBotella  \n",
       "0              ?     1.0           4.56  \n",
       "2              ?     1.0           1.00  \n",
       "4              ?     1.0           1.28  \n",
       "8              ?     2.0           2.95  \n",
       "10             ?     3.0           2.69  "
      ]
     },
     "execution_count": 17,
     "metadata": {},
     "output_type": "execute_result"
    }
   ],
   "source": [
    "df.head()"
   ]
  },
  {
   "cell_type": "code",
   "execution_count": 18,
   "metadata": {},
   "outputs": [
    {
     "data": {
      "text/plain": [
       "count    4238.000000\n",
       "mean        7.526458\n",
       "std         1.123636\n",
       "min         4.810000\n",
       "25%         6.810000\n",
       "50%         7.920000\n",
       "75%         8.400000\n",
       "max         9.300000\n",
       "Name: pH, dtype: float64"
      ]
     },
     "execution_count": 18,
     "metadata": {},
     "output_type": "execute_result"
    }
   ],
   "source": [
    "df.pH.describe()"
   ]
  },
  {
   "cell_type": "code",
   "execution_count": 19,
   "metadata": {},
   "outputs": [
    {
     "data": {
      "text/plain": [
       "count    4238.000000\n",
       "mean       48.845393\n",
       "std       215.340033\n",
       "min        -1.171000\n",
       "25%        -0.003000\n",
       "50%         0.048000\n",
       "75%         0.229000\n",
       "max       999.000000\n",
       "Name: CloruroSodico, dtype: float64"
      ]
     },
     "execution_count": 19,
     "metadata": {},
     "output_type": "execute_result"
    }
   ],
   "source": [
    "df.CloruroSodico.describe()"
   ]
  },
  {
   "cell_type": "code",
   "execution_count": 20,
   "metadata": {},
   "outputs": [
    {
     "data": {
      "text/plain": [
       "array([5, 2, 6, 3, 4, 7, 1, 8, 9, 0], dtype=int64)"
      ]
     },
     "execution_count": 20,
     "metadata": {},
     "output_type": "execute_result"
    }
   ],
   "source": [
    "df.CalifProductor.unique()      "
   ]
  },
  {
   "cell_type": "code",
   "execution_count": 21,
   "metadata": {},
   "outputs": [
    {
     "data": {
      "text/plain": [
       "array([1., 2., 3.])"
      ]
     },
     "execution_count": 21,
     "metadata": {},
     "output_type": "execute_result"
    }
   ],
   "source": [
    "df.Region.unique()"
   ]
  },
  {
   "cell_type": "code",
   "execution_count": 22,
   "metadata": {},
   "outputs": [
    {
     "data": {
      "text/plain": [
       "array(['B', 'M', 'R', 'MB', 'MM', 'mb', 'b', 'r', 'm', 'mm'], dtype=object)"
      ]
     },
     "execution_count": 22,
     "metadata": {},
     "output_type": "execute_result"
    }
   ],
   "source": [
    "df.Etiqueta.unique()"
   ]
  },
  {
   "cell_type": "code",
   "execution_count": 23,
   "metadata": {},
   "outputs": [],
   "source": [
    "df['Etiqueta'] = df['Etiqueta'].str.upper()"
   ]
  },
  {
   "cell_type": "code",
   "execution_count": 24,
   "metadata": {},
   "outputs": [
    {
     "data": {
      "text/plain": [
       "0"
      ]
     },
     "execution_count": 24,
     "metadata": {},
     "output_type": "execute_result"
    }
   ],
   "source": [
    "df.duplicated().sum()"
   ]
  },
  {
   "cell_type": "code",
   "execution_count": 25,
   "metadata": {},
   "outputs": [
    {
     "data": {
      "text/html": [
       "<div>\n",
       "<style scoped>\n",
       "    .dataframe tbody tr th:only-of-type {\n",
       "        vertical-align: middle;\n",
       "    }\n",
       "\n",
       "    .dataframe tbody tr th {\n",
       "        vertical-align: top;\n",
       "    }\n",
       "\n",
       "    .dataframe thead th {\n",
       "        text-align: right;\n",
       "    }\n",
       "</style>\n",
       "<table border=\"1\" class=\"dataframe\">\n",
       "  <thead>\n",
       "    <tr style=\"text-align: right;\">\n",
       "      <th></th>\n",
       "      <th>ID</th>\n",
       "      <th>Beneficio</th>\n",
       "      <th>Compra</th>\n",
       "      <th>Acidez</th>\n",
       "      <th>AcidoCitrico</th>\n",
       "      <th>pH</th>\n",
       "      <th>CloruroSodico</th>\n",
       "      <th>Densidad</th>\n",
       "      <th>Azucar</th>\n",
       "      <th>Sulfatos</th>\n",
       "      <th>Alcohol</th>\n",
       "      <th>Etiqueta</th>\n",
       "      <th>CalifProductor</th>\n",
       "      <th>Clasificacion</th>\n",
       "      <th>Region</th>\n",
       "      <th>PrecioBotella</th>\n",
       "    </tr>\n",
       "  </thead>\n",
       "  <tbody>\n",
       "    <tr>\n",
       "      <th>0</th>\n",
       "      <td>13606</td>\n",
       "      <td>0</td>\n",
       "      <td>0</td>\n",
       "      <td>0.39</td>\n",
       "      <td>0.14</td>\n",
       "      <td>4.99</td>\n",
       "      <td>0.073</td>\n",
       "      <td>1.02195</td>\n",
       "      <td>5.9</td>\n",
       "      <td>0.12</td>\n",
       "      <td>6.6</td>\n",
       "      <td>B</td>\n",
       "      <td>5</td>\n",
       "      <td>?</td>\n",
       "      <td>1.0</td>\n",
       "      <td>4.56</td>\n",
       "    </tr>\n",
       "    <tr>\n",
       "      <th>2</th>\n",
       "      <td>1190</td>\n",
       "      <td>0</td>\n",
       "      <td>0</td>\n",
       "      <td>1.44</td>\n",
       "      <td>-1.54</td>\n",
       "      <td>5.10</td>\n",
       "      <td>0.058</td>\n",
       "      <td>0.99271</td>\n",
       "      <td>7.1</td>\n",
       "      <td>0.39</td>\n",
       "      <td>10.2</td>\n",
       "      <td>B</td>\n",
       "      <td>2</td>\n",
       "      <td>?</td>\n",
       "      <td>1.0</td>\n",
       "      <td>1.00</td>\n",
       "    </tr>\n",
       "    <tr>\n",
       "      <th>4</th>\n",
       "      <td>2871</td>\n",
       "      <td>0</td>\n",
       "      <td>0</td>\n",
       "      <td>-0.10</td>\n",
       "      <td>0.30</td>\n",
       "      <td>5.75</td>\n",
       "      <td>0.048</td>\n",
       "      <td>1.02724</td>\n",
       "      <td>7.2</td>\n",
       "      <td>0.44</td>\n",
       "      <td>10.1</td>\n",
       "      <td>M</td>\n",
       "      <td>2</td>\n",
       "      <td>?</td>\n",
       "      <td>1.0</td>\n",
       "      <td>1.28</td>\n",
       "    </tr>\n",
       "    <tr>\n",
       "      <th>8</th>\n",
       "      <td>8725</td>\n",
       "      <td>0</td>\n",
       "      <td>0</td>\n",
       "      <td>0.46</td>\n",
       "      <td>-0.74</td>\n",
       "      <td>5.37</td>\n",
       "      <td>0.064</td>\n",
       "      <td>0.99718</td>\n",
       "      <td>1.5</td>\n",
       "      <td>1.91</td>\n",
       "      <td>11.0</td>\n",
       "      <td>R</td>\n",
       "      <td>5</td>\n",
       "      <td>?</td>\n",
       "      <td>2.0</td>\n",
       "      <td>2.95</td>\n",
       "    </tr>\n",
       "    <tr>\n",
       "      <th>10</th>\n",
       "      <td>15084</td>\n",
       "      <td>0</td>\n",
       "      <td>0</td>\n",
       "      <td>0.22</td>\n",
       "      <td>-0.56</td>\n",
       "      <td>5.28</td>\n",
       "      <td>0.035</td>\n",
       "      <td>0.97087</td>\n",
       "      <td>9.8</td>\n",
       "      <td>0.61</td>\n",
       "      <td>14.3</td>\n",
       "      <td>R</td>\n",
       "      <td>2</td>\n",
       "      <td>?</td>\n",
       "      <td>3.0</td>\n",
       "      <td>2.69</td>\n",
       "    </tr>\n",
       "  </tbody>\n",
       "</table>\n",
       "</div>"
      ],
      "text/plain": [
       "       ID  Beneficio  Compra  Acidez  AcidoCitrico    pH  CloruroSodico  \\\n",
       "0   13606          0       0    0.39          0.14  4.99          0.073   \n",
       "2    1190          0       0    1.44         -1.54  5.10          0.058   \n",
       "4    2871          0       0   -0.10          0.30  5.75          0.048   \n",
       "8    8725          0       0    0.46         -0.74  5.37          0.064   \n",
       "10  15084          0       0    0.22         -0.56  5.28          0.035   \n",
       "\n",
       "    Densidad  Azucar  Sulfatos  Alcohol Etiqueta  CalifProductor  \\\n",
       "0    1.02195     5.9      0.12      6.6        B               5   \n",
       "2    0.99271     7.1      0.39     10.2        B               2   \n",
       "4    1.02724     7.2      0.44     10.1        M               2   \n",
       "8    0.99718     1.5      1.91     11.0        R               5   \n",
       "10   0.97087     9.8      0.61     14.3        R               2   \n",
       "\n",
       "   Clasificacion  Region  PrecioBotella  \n",
       "0              ?     1.0           4.56  \n",
       "2              ?     1.0           1.00  \n",
       "4              ?     1.0           1.28  \n",
       "8              ?     2.0           2.95  \n",
       "10             ?     3.0           2.69  "
      ]
     },
     "execution_count": 25,
     "metadata": {},
     "output_type": "execute_result"
    }
   ],
   "source": [
    "df.head()"
   ]
  },
  {
   "cell_type": "markdown",
   "metadata": {},
   "source": [
    "Columna Etiqueta"
   ]
  },
  {
   "cell_type": "code",
   "execution_count": 26,
   "metadata": {},
   "outputs": [],
   "source": [
    "# Crear un mapeo de etiquetas a números con sus descripciones\n",
    "label_mapping = {\n",
    "    'MM': 1,  # Muy malo\n",
    "    'M': 2,   # Malo\n",
    "    'R': 3,   # Regular\n",
    "    'B': 4,   # Bueno\n",
    "    'MB': 5   # Muy bueno\n",
    "}\n",
    "\n",
    "# Aplicar el mapeo a la columna 'Etiqueta'\n",
    "df['Etiqueta'] = df['Etiqueta'].map(label_mapping)"
   ]
  },
  {
   "cell_type": "markdown",
   "metadata": {},
   "source": [
    "Columna Calificacion"
   ]
  },
  {
   "cell_type": "code",
   "execution_count": 27,
   "metadata": {},
   "outputs": [],
   "source": [
    "# Crear un mapeo de clasificaciones a números\n",
    "classification_mapping = {\n",
    "    '?': 0,    # Desconocido\n",
    "    '*': 1,    # 1 estrella\n",
    "    '**': 2,   # 2 estrellas\n",
    "    '***': 3,  # 3 estrellas\n",
    "    '****': 4  # 4 estrellas\n",
    "}\n",
    "\n",
    "# Aplicar el mapeo a la columna 'Clasificacion'\n",
    "df['Clasificacion'] = df['Clasificacion'].map(classification_mapping)"
   ]
  },
  {
   "cell_type": "code",
   "execution_count": 28,
   "metadata": {},
   "outputs": [
    {
     "data": {
      "text/html": [
       "<div>\n",
       "<style scoped>\n",
       "    .dataframe tbody tr th:only-of-type {\n",
       "        vertical-align: middle;\n",
       "    }\n",
       "\n",
       "    .dataframe tbody tr th {\n",
       "        vertical-align: top;\n",
       "    }\n",
       "\n",
       "    .dataframe thead th {\n",
       "        text-align: right;\n",
       "    }\n",
       "</style>\n",
       "<table border=\"1\" class=\"dataframe\">\n",
       "  <thead>\n",
       "    <tr style=\"text-align: right;\">\n",
       "      <th></th>\n",
       "      <th>ID</th>\n",
       "      <th>Beneficio</th>\n",
       "      <th>Compra</th>\n",
       "      <th>Acidez</th>\n",
       "      <th>AcidoCitrico</th>\n",
       "      <th>pH</th>\n",
       "      <th>CloruroSodico</th>\n",
       "      <th>Densidad</th>\n",
       "      <th>Azucar</th>\n",
       "      <th>Sulfatos</th>\n",
       "      <th>Alcohol</th>\n",
       "      <th>Etiqueta</th>\n",
       "      <th>CalifProductor</th>\n",
       "      <th>Clasificacion</th>\n",
       "      <th>Region</th>\n",
       "      <th>PrecioBotella</th>\n",
       "    </tr>\n",
       "  </thead>\n",
       "  <tbody>\n",
       "    <tr>\n",
       "      <th>0</th>\n",
       "      <td>13606</td>\n",
       "      <td>0</td>\n",
       "      <td>0</td>\n",
       "      <td>0.39</td>\n",
       "      <td>0.14</td>\n",
       "      <td>4.99</td>\n",
       "      <td>0.073</td>\n",
       "      <td>1.02195</td>\n",
       "      <td>5.9</td>\n",
       "      <td>0.12</td>\n",
       "      <td>6.6</td>\n",
       "      <td>4</td>\n",
       "      <td>5</td>\n",
       "      <td>0</td>\n",
       "      <td>1.0</td>\n",
       "      <td>4.56</td>\n",
       "    </tr>\n",
       "    <tr>\n",
       "      <th>2</th>\n",
       "      <td>1190</td>\n",
       "      <td>0</td>\n",
       "      <td>0</td>\n",
       "      <td>1.44</td>\n",
       "      <td>-1.54</td>\n",
       "      <td>5.10</td>\n",
       "      <td>0.058</td>\n",
       "      <td>0.99271</td>\n",
       "      <td>7.1</td>\n",
       "      <td>0.39</td>\n",
       "      <td>10.2</td>\n",
       "      <td>4</td>\n",
       "      <td>2</td>\n",
       "      <td>0</td>\n",
       "      <td>1.0</td>\n",
       "      <td>1.00</td>\n",
       "    </tr>\n",
       "    <tr>\n",
       "      <th>4</th>\n",
       "      <td>2871</td>\n",
       "      <td>0</td>\n",
       "      <td>0</td>\n",
       "      <td>-0.10</td>\n",
       "      <td>0.30</td>\n",
       "      <td>5.75</td>\n",
       "      <td>0.048</td>\n",
       "      <td>1.02724</td>\n",
       "      <td>7.2</td>\n",
       "      <td>0.44</td>\n",
       "      <td>10.1</td>\n",
       "      <td>2</td>\n",
       "      <td>2</td>\n",
       "      <td>0</td>\n",
       "      <td>1.0</td>\n",
       "      <td>1.28</td>\n",
       "    </tr>\n",
       "    <tr>\n",
       "      <th>8</th>\n",
       "      <td>8725</td>\n",
       "      <td>0</td>\n",
       "      <td>0</td>\n",
       "      <td>0.46</td>\n",
       "      <td>-0.74</td>\n",
       "      <td>5.37</td>\n",
       "      <td>0.064</td>\n",
       "      <td>0.99718</td>\n",
       "      <td>1.5</td>\n",
       "      <td>1.91</td>\n",
       "      <td>11.0</td>\n",
       "      <td>3</td>\n",
       "      <td>5</td>\n",
       "      <td>0</td>\n",
       "      <td>2.0</td>\n",
       "      <td>2.95</td>\n",
       "    </tr>\n",
       "    <tr>\n",
       "      <th>10</th>\n",
       "      <td>15084</td>\n",
       "      <td>0</td>\n",
       "      <td>0</td>\n",
       "      <td>0.22</td>\n",
       "      <td>-0.56</td>\n",
       "      <td>5.28</td>\n",
       "      <td>0.035</td>\n",
       "      <td>0.97087</td>\n",
       "      <td>9.8</td>\n",
       "      <td>0.61</td>\n",
       "      <td>14.3</td>\n",
       "      <td>3</td>\n",
       "      <td>2</td>\n",
       "      <td>0</td>\n",
       "      <td>3.0</td>\n",
       "      <td>2.69</td>\n",
       "    </tr>\n",
       "  </tbody>\n",
       "</table>\n",
       "</div>"
      ],
      "text/plain": [
       "       ID  Beneficio  Compra  Acidez  AcidoCitrico    pH  CloruroSodico  \\\n",
       "0   13606          0       0    0.39          0.14  4.99          0.073   \n",
       "2    1190          0       0    1.44         -1.54  5.10          0.058   \n",
       "4    2871          0       0   -0.10          0.30  5.75          0.048   \n",
       "8    8725          0       0    0.46         -0.74  5.37          0.064   \n",
       "10  15084          0       0    0.22         -0.56  5.28          0.035   \n",
       "\n",
       "    Densidad  Azucar  Sulfatos  Alcohol  Etiqueta  CalifProductor  \\\n",
       "0    1.02195     5.9      0.12      6.6         4               5   \n",
       "2    0.99271     7.1      0.39     10.2         4               2   \n",
       "4    1.02724     7.2      0.44     10.1         2               2   \n",
       "8    0.99718     1.5      1.91     11.0         3               5   \n",
       "10   0.97087     9.8      0.61     14.3         3               2   \n",
       "\n",
       "    Clasificacion  Region  PrecioBotella  \n",
       "0               0     1.0           4.56  \n",
       "2               0     1.0           1.00  \n",
       "4               0     1.0           1.28  \n",
       "8               0     2.0           2.95  \n",
       "10              0     3.0           2.69  "
      ]
     },
     "execution_count": 28,
     "metadata": {},
     "output_type": "execute_result"
    }
   ],
   "source": [
    "df.head()"
   ]
  },
  {
   "cell_type": "markdown",
   "metadata": {},
   "source": [
    "Como el objetivo es preparar los datos para un modelo de machine learning y ID no aporta información relevante, es recomendable eliminarlo."
   ]
  },
  {
   "cell_type": "code",
   "execution_count": 29,
   "metadata": {},
   "outputs": [],
   "source": [
    "df = df.drop(columns='ID')"
   ]
  },
  {
   "cell_type": "code",
   "execution_count": 30,
   "metadata": {},
   "outputs": [
    {
     "data": {
      "text/html": [
       "<div>\n",
       "<style scoped>\n",
       "    .dataframe tbody tr th:only-of-type {\n",
       "        vertical-align: middle;\n",
       "    }\n",
       "\n",
       "    .dataframe tbody tr th {\n",
       "        vertical-align: top;\n",
       "    }\n",
       "\n",
       "    .dataframe thead th {\n",
       "        text-align: right;\n",
       "    }\n",
       "</style>\n",
       "<table border=\"1\" class=\"dataframe\">\n",
       "  <thead>\n",
       "    <tr style=\"text-align: right;\">\n",
       "      <th></th>\n",
       "      <th>Beneficio</th>\n",
       "      <th>Compra</th>\n",
       "      <th>Acidez</th>\n",
       "      <th>AcidoCitrico</th>\n",
       "      <th>pH</th>\n",
       "      <th>CloruroSodico</th>\n",
       "      <th>Densidad</th>\n",
       "      <th>Azucar</th>\n",
       "      <th>Sulfatos</th>\n",
       "      <th>Alcohol</th>\n",
       "      <th>Etiqueta</th>\n",
       "      <th>CalifProductor</th>\n",
       "      <th>Clasificacion</th>\n",
       "      <th>Region</th>\n",
       "      <th>PrecioBotella</th>\n",
       "    </tr>\n",
       "  </thead>\n",
       "  <tbody>\n",
       "    <tr>\n",
       "      <th>0</th>\n",
       "      <td>0</td>\n",
       "      <td>0</td>\n",
       "      <td>0.39</td>\n",
       "      <td>0.14</td>\n",
       "      <td>4.99</td>\n",
       "      <td>0.073</td>\n",
       "      <td>1.02195</td>\n",
       "      <td>5.9</td>\n",
       "      <td>0.12</td>\n",
       "      <td>6.6</td>\n",
       "      <td>4</td>\n",
       "      <td>5</td>\n",
       "      <td>0</td>\n",
       "      <td>1.0</td>\n",
       "      <td>4.56</td>\n",
       "    </tr>\n",
       "    <tr>\n",
       "      <th>2</th>\n",
       "      <td>0</td>\n",
       "      <td>0</td>\n",
       "      <td>1.44</td>\n",
       "      <td>-1.54</td>\n",
       "      <td>5.10</td>\n",
       "      <td>0.058</td>\n",
       "      <td>0.99271</td>\n",
       "      <td>7.1</td>\n",
       "      <td>0.39</td>\n",
       "      <td>10.2</td>\n",
       "      <td>4</td>\n",
       "      <td>2</td>\n",
       "      <td>0</td>\n",
       "      <td>1.0</td>\n",
       "      <td>1.00</td>\n",
       "    </tr>\n",
       "    <tr>\n",
       "      <th>4</th>\n",
       "      <td>0</td>\n",
       "      <td>0</td>\n",
       "      <td>-0.10</td>\n",
       "      <td>0.30</td>\n",
       "      <td>5.75</td>\n",
       "      <td>0.048</td>\n",
       "      <td>1.02724</td>\n",
       "      <td>7.2</td>\n",
       "      <td>0.44</td>\n",
       "      <td>10.1</td>\n",
       "      <td>2</td>\n",
       "      <td>2</td>\n",
       "      <td>0</td>\n",
       "      <td>1.0</td>\n",
       "      <td>1.28</td>\n",
       "    </tr>\n",
       "    <tr>\n",
       "      <th>8</th>\n",
       "      <td>0</td>\n",
       "      <td>0</td>\n",
       "      <td>0.46</td>\n",
       "      <td>-0.74</td>\n",
       "      <td>5.37</td>\n",
       "      <td>0.064</td>\n",
       "      <td>0.99718</td>\n",
       "      <td>1.5</td>\n",
       "      <td>1.91</td>\n",
       "      <td>11.0</td>\n",
       "      <td>3</td>\n",
       "      <td>5</td>\n",
       "      <td>0</td>\n",
       "      <td>2.0</td>\n",
       "      <td>2.95</td>\n",
       "    </tr>\n",
       "    <tr>\n",
       "      <th>10</th>\n",
       "      <td>0</td>\n",
       "      <td>0</td>\n",
       "      <td>0.22</td>\n",
       "      <td>-0.56</td>\n",
       "      <td>5.28</td>\n",
       "      <td>0.035</td>\n",
       "      <td>0.97087</td>\n",
       "      <td>9.8</td>\n",
       "      <td>0.61</td>\n",
       "      <td>14.3</td>\n",
       "      <td>3</td>\n",
       "      <td>2</td>\n",
       "      <td>0</td>\n",
       "      <td>3.0</td>\n",
       "      <td>2.69</td>\n",
       "    </tr>\n",
       "  </tbody>\n",
       "</table>\n",
       "</div>"
      ],
      "text/plain": [
       "    Beneficio  Compra  Acidez  AcidoCitrico    pH  CloruroSodico  Densidad  \\\n",
       "0           0       0    0.39          0.14  4.99          0.073   1.02195   \n",
       "2           0       0    1.44         -1.54  5.10          0.058   0.99271   \n",
       "4           0       0   -0.10          0.30  5.75          0.048   1.02724   \n",
       "8           0       0    0.46         -0.74  5.37          0.064   0.99718   \n",
       "10          0       0    0.22         -0.56  5.28          0.035   0.97087   \n",
       "\n",
       "    Azucar  Sulfatos  Alcohol  Etiqueta  CalifProductor  Clasificacion  \\\n",
       "0      5.9      0.12      6.6         4               5              0   \n",
       "2      7.1      0.39     10.2         4               2              0   \n",
       "4      7.2      0.44     10.1         2               2              0   \n",
       "8      1.5      1.91     11.0         3               5              0   \n",
       "10     9.8      0.61     14.3         3               2              0   \n",
       "\n",
       "    Region  PrecioBotella  \n",
       "0      1.0           4.56  \n",
       "2      1.0           1.00  \n",
       "4      1.0           1.28  \n",
       "8      2.0           2.95  \n",
       "10     3.0           2.69  "
      ]
     },
     "execution_count": 30,
     "metadata": {},
     "output_type": "execute_result"
    }
   ],
   "source": [
    "df.head()"
   ]
  },
  {
   "cell_type": "code",
   "execution_count": 31,
   "metadata": {},
   "outputs": [
    {
     "name": "stdout",
     "output_type": "stream",
     "text": [
      "<class 'pandas.core.frame.DataFrame'>\n",
      "Index: 4238 entries, 0 to 6364\n",
      "Data columns (total 15 columns):\n",
      " #   Column          Non-Null Count  Dtype  \n",
      "---  ------          --------------  -----  \n",
      " 0   Beneficio       4238 non-null   int64  \n",
      " 1   Compra          4238 non-null   int64  \n",
      " 2   Acidez          4238 non-null   float64\n",
      " 3   AcidoCitrico    4238 non-null   float64\n",
      " 4   pH              4238 non-null   float64\n",
      " 5   CloruroSodico   4238 non-null   float64\n",
      " 6   Densidad        4238 non-null   float64\n",
      " 7   Azucar          4238 non-null   float64\n",
      " 8   Sulfatos        4238 non-null   float64\n",
      " 9   Alcohol         4238 non-null   float64\n",
      " 10  Etiqueta        4238 non-null   int64  \n",
      " 11  CalifProductor  4238 non-null   int64  \n",
      " 12  Clasificacion   4238 non-null   int64  \n",
      " 13  Region          4238 non-null   float64\n",
      " 14  PrecioBotella   4238 non-null   float64\n",
      "dtypes: float64(10), int64(5)\n",
      "memory usage: 529.8 KB\n"
     ]
    }
   ],
   "source": [
    "df.info()"
   ]
  },
  {
   "cell_type": "code",
   "execution_count": 32,
   "metadata": {},
   "outputs": [
    {
     "data": {
      "text/html": [
       "<div>\n",
       "<style scoped>\n",
       "    .dataframe tbody tr th:only-of-type {\n",
       "        vertical-align: middle;\n",
       "    }\n",
       "\n",
       "    .dataframe tbody tr th {\n",
       "        vertical-align: top;\n",
       "    }\n",
       "\n",
       "    .dataframe thead th {\n",
       "        text-align: right;\n",
       "    }\n",
       "</style>\n",
       "<table border=\"1\" class=\"dataframe\">\n",
       "  <thead>\n",
       "    <tr style=\"text-align: right;\">\n",
       "      <th></th>\n",
       "      <th>Beneficio</th>\n",
       "      <th>Compra</th>\n",
       "      <th>Acidez</th>\n",
       "      <th>AcidoCitrico</th>\n",
       "      <th>pH</th>\n",
       "      <th>CloruroSodico</th>\n",
       "      <th>Densidad</th>\n",
       "      <th>Azucar</th>\n",
       "      <th>Sulfatos</th>\n",
       "      <th>Alcohol</th>\n",
       "      <th>Etiqueta</th>\n",
       "      <th>CalifProductor</th>\n",
       "      <th>Clasificacion</th>\n",
       "      <th>Region</th>\n",
       "      <th>PrecioBotella</th>\n",
       "    </tr>\n",
       "  </thead>\n",
       "  <tbody>\n",
       "    <tr>\n",
       "      <th>0</th>\n",
       "      <td>0</td>\n",
       "      <td>0</td>\n",
       "      <td>0.39</td>\n",
       "      <td>0.14</td>\n",
       "      <td>4.99</td>\n",
       "      <td>0.073</td>\n",
       "      <td>1.02195</td>\n",
       "      <td>5.9</td>\n",
       "      <td>0.12</td>\n",
       "      <td>6.6</td>\n",
       "      <td>4</td>\n",
       "      <td>5</td>\n",
       "      <td>0</td>\n",
       "      <td>1.0</td>\n",
       "      <td>4.56</td>\n",
       "    </tr>\n",
       "    <tr>\n",
       "      <th>2</th>\n",
       "      <td>0</td>\n",
       "      <td>0</td>\n",
       "      <td>1.44</td>\n",
       "      <td>-1.54</td>\n",
       "      <td>5.10</td>\n",
       "      <td>0.058</td>\n",
       "      <td>0.99271</td>\n",
       "      <td>7.1</td>\n",
       "      <td>0.39</td>\n",
       "      <td>10.2</td>\n",
       "      <td>4</td>\n",
       "      <td>2</td>\n",
       "      <td>0</td>\n",
       "      <td>1.0</td>\n",
       "      <td>1.00</td>\n",
       "    </tr>\n",
       "    <tr>\n",
       "      <th>4</th>\n",
       "      <td>0</td>\n",
       "      <td>0</td>\n",
       "      <td>-0.10</td>\n",
       "      <td>0.30</td>\n",
       "      <td>5.75</td>\n",
       "      <td>0.048</td>\n",
       "      <td>1.02724</td>\n",
       "      <td>7.2</td>\n",
       "      <td>0.44</td>\n",
       "      <td>10.1</td>\n",
       "      <td>2</td>\n",
       "      <td>2</td>\n",
       "      <td>0</td>\n",
       "      <td>1.0</td>\n",
       "      <td>1.28</td>\n",
       "    </tr>\n",
       "    <tr>\n",
       "      <th>8</th>\n",
       "      <td>0</td>\n",
       "      <td>0</td>\n",
       "      <td>0.46</td>\n",
       "      <td>-0.74</td>\n",
       "      <td>5.37</td>\n",
       "      <td>0.064</td>\n",
       "      <td>0.99718</td>\n",
       "      <td>1.5</td>\n",
       "      <td>1.91</td>\n",
       "      <td>11.0</td>\n",
       "      <td>3</td>\n",
       "      <td>5</td>\n",
       "      <td>0</td>\n",
       "      <td>2.0</td>\n",
       "      <td>2.95</td>\n",
       "    </tr>\n",
       "    <tr>\n",
       "      <th>10</th>\n",
       "      <td>0</td>\n",
       "      <td>0</td>\n",
       "      <td>0.22</td>\n",
       "      <td>-0.56</td>\n",
       "      <td>5.28</td>\n",
       "      <td>0.035</td>\n",
       "      <td>0.97087</td>\n",
       "      <td>9.8</td>\n",
       "      <td>0.61</td>\n",
       "      <td>14.3</td>\n",
       "      <td>3</td>\n",
       "      <td>2</td>\n",
       "      <td>0</td>\n",
       "      <td>3.0</td>\n",
       "      <td>2.69</td>\n",
       "    </tr>\n",
       "  </tbody>\n",
       "</table>\n",
       "</div>"
      ],
      "text/plain": [
       "    Beneficio  Compra  Acidez  AcidoCitrico    pH  CloruroSodico  Densidad  \\\n",
       "0           0       0    0.39          0.14  4.99          0.073   1.02195   \n",
       "2           0       0    1.44         -1.54  5.10          0.058   0.99271   \n",
       "4           0       0   -0.10          0.30  5.75          0.048   1.02724   \n",
       "8           0       0    0.46         -0.74  5.37          0.064   0.99718   \n",
       "10          0       0    0.22         -0.56  5.28          0.035   0.97087   \n",
       "\n",
       "    Azucar  Sulfatos  Alcohol  Etiqueta  CalifProductor  Clasificacion  \\\n",
       "0      5.9      0.12      6.6         4               5              0   \n",
       "2      7.1      0.39     10.2         4               2              0   \n",
       "4      7.2      0.44     10.1         2               2              0   \n",
       "8      1.5      1.91     11.0         3               5              0   \n",
       "10     9.8      0.61     14.3         3               2              0   \n",
       "\n",
       "    Region  PrecioBotella  \n",
       "0      1.0           4.56  \n",
       "2      1.0           1.00  \n",
       "4      1.0           1.28  \n",
       "8      2.0           2.95  \n",
       "10     3.0           2.69  "
      ]
     },
     "execution_count": 32,
     "metadata": {},
     "output_type": "execute_result"
    }
   ],
   "source": [
    "df.head()"
   ]
  },
  {
   "cell_type": "code",
   "execution_count": 33,
   "metadata": {},
   "outputs": [],
   "source": [
    "columnas_a_convertir = ['Region', 'Clasificacion', 'CalifProductor', 'Etiqueta', 'Beneficio', 'Compra']\n",
    "df[columnas_a_convertir] = df[columnas_a_convertir].astype('int16')"
   ]
  },
  {
   "cell_type": "code",
   "execution_count": 34,
   "metadata": {},
   "outputs": [
    {
     "name": "stdout",
     "output_type": "stream",
     "text": [
      "<class 'pandas.core.frame.DataFrame'>\n",
      "Index: 4238 entries, 0 to 6364\n",
      "Data columns (total 15 columns):\n",
      " #   Column          Non-Null Count  Dtype  \n",
      "---  ------          --------------  -----  \n",
      " 0   Beneficio       4238 non-null   int16  \n",
      " 1   Compra          4238 non-null   int16  \n",
      " 2   Acidez          4238 non-null   float64\n",
      " 3   AcidoCitrico    4238 non-null   float64\n",
      " 4   pH              4238 non-null   float64\n",
      " 5   CloruroSodico   4238 non-null   float64\n",
      " 6   Densidad        4238 non-null   float64\n",
      " 7   Azucar          4238 non-null   float64\n",
      " 8   Sulfatos        4238 non-null   float64\n",
      " 9   Alcohol         4238 non-null   float64\n",
      " 10  Etiqueta        4238 non-null   int16  \n",
      " 11  CalifProductor  4238 non-null   int16  \n",
      " 12  Clasificacion   4238 non-null   int16  \n",
      " 13  Region          4238 non-null   int16  \n",
      " 14  PrecioBotella   4238 non-null   float64\n",
      "dtypes: float64(9), int16(6)\n",
      "memory usage: 380.8 KB\n"
     ]
    }
   ],
   "source": [
    "df.info()"
   ]
  },
  {
   "cell_type": "code",
   "execution_count": 35,
   "metadata": {},
   "outputs": [
    {
     "data": {
      "text/plain": [
       "Beneficio         0\n",
       "Compra            0\n",
       "Acidez            0\n",
       "AcidoCitrico      0\n",
       "pH                0\n",
       "CloruroSodico     0\n",
       "Densidad          0\n",
       "Azucar            0\n",
       "Sulfatos          0\n",
       "Alcohol           0\n",
       "Etiqueta          0\n",
       "CalifProductor    0\n",
       "Clasificacion     0\n",
       "Region            0\n",
       "PrecioBotella     0\n",
       "dtype: int64"
      ]
     },
     "execution_count": 35,
     "metadata": {},
     "output_type": "execute_result"
    }
   ],
   "source": [
    "df.isnull().sum()"
   ]
  },
  {
   "cell_type": "code",
   "execution_count": 36,
   "metadata": {},
   "outputs": [],
   "source": [
    "df.to_csv('Vino_normalizado.csv', index=False)"
   ]
  }
 ],
 "metadata": {
  "kernelspec": {
   "display_name": "Python 3",
   "language": "python",
   "name": "python3"
  },
  "language_info": {
   "codemirror_mode": {
    "name": "ipython",
    "version": 3
   },
   "file_extension": ".py",
   "mimetype": "text/x-python",
   "name": "python",
   "nbconvert_exporter": "python",
   "pygments_lexer": "ipython3",
   "version": "3.11.3"
  }
 },
 "nbformat": 4,
 "nbformat_minor": 2
}
